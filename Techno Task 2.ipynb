{
 "cells": [
  {
   "cell_type": "markdown",
   "id": "5d509610",
   "metadata": {},
   "source": [
    "Task 2 : Calculate summary statistics\n",
    "Calculate summary statistics (mean, median,mode, standard deviation) for a dataset\n",
    "\n"
   ]
  },
  {
   "cell_type": "code",
   "execution_count": 18,
   "id": "39524d4e",
   "metadata": {},
   "outputs": [],
   "source": [
    "import pandas as pd\n",
    "import numpy as np "
   ]
  },
  {
   "cell_type": "code",
   "execution_count": 19,
   "id": "45b7dfd8",
   "metadata": {},
   "outputs": [],
   "source": [
    "#Read the dataset into a pandas DataFrame"
   ]
  },
  {
   "cell_type": "code",
   "execution_count": 20,
   "id": "a6d3311a",
   "metadata": {},
   "outputs": [],
   "source": [
    "df=pd.read_csv('gender_submission.csv')"
   ]
  },
  {
   "cell_type": "code",
   "execution_count": 21,
   "id": "d62db82d",
   "metadata": {},
   "outputs": [
    {
     "data": {
      "text/html": [
       "<div>\n",
       "<style scoped>\n",
       "    .dataframe tbody tr th:only-of-type {\n",
       "        vertical-align: middle;\n",
       "    }\n",
       "\n",
       "    .dataframe tbody tr th {\n",
       "        vertical-align: top;\n",
       "    }\n",
       "\n",
       "    .dataframe thead th {\n",
       "        text-align: right;\n",
       "    }\n",
       "</style>\n",
       "<table border=\"1\" class=\"dataframe\">\n",
       "  <thead>\n",
       "    <tr style=\"text-align: right;\">\n",
       "      <th></th>\n",
       "      <th>PassengerId</th>\n",
       "      <th>Survived</th>\n",
       "    </tr>\n",
       "  </thead>\n",
       "  <tbody>\n",
       "    <tr>\n",
       "      <th>0</th>\n",
       "      <td>892</td>\n",
       "      <td>0</td>\n",
       "    </tr>\n",
       "    <tr>\n",
       "      <th>1</th>\n",
       "      <td>893</td>\n",
       "      <td>1</td>\n",
       "    </tr>\n",
       "    <tr>\n",
       "      <th>2</th>\n",
       "      <td>894</td>\n",
       "      <td>0</td>\n",
       "    </tr>\n",
       "    <tr>\n",
       "      <th>3</th>\n",
       "      <td>895</td>\n",
       "      <td>0</td>\n",
       "    </tr>\n",
       "    <tr>\n",
       "      <th>4</th>\n",
       "      <td>896</td>\n",
       "      <td>1</td>\n",
       "    </tr>\n",
       "    <tr>\n",
       "      <th>...</th>\n",
       "      <td>...</td>\n",
       "      <td>...</td>\n",
       "    </tr>\n",
       "    <tr>\n",
       "      <th>413</th>\n",
       "      <td>1305</td>\n",
       "      <td>0</td>\n",
       "    </tr>\n",
       "    <tr>\n",
       "      <th>414</th>\n",
       "      <td>1306</td>\n",
       "      <td>1</td>\n",
       "    </tr>\n",
       "    <tr>\n",
       "      <th>415</th>\n",
       "      <td>1307</td>\n",
       "      <td>0</td>\n",
       "    </tr>\n",
       "    <tr>\n",
       "      <th>416</th>\n",
       "      <td>1308</td>\n",
       "      <td>0</td>\n",
       "    </tr>\n",
       "    <tr>\n",
       "      <th>417</th>\n",
       "      <td>1309</td>\n",
       "      <td>0</td>\n",
       "    </tr>\n",
       "  </tbody>\n",
       "</table>\n",
       "<p>418 rows × 2 columns</p>\n",
       "</div>"
      ],
      "text/plain": [
       "     PassengerId  Survived\n",
       "0            892         0\n",
       "1            893         1\n",
       "2            894         0\n",
       "3            895         0\n",
       "4            896         1\n",
       "..           ...       ...\n",
       "413         1305         0\n",
       "414         1306         1\n",
       "415         1307         0\n",
       "416         1308         0\n",
       "417         1309         0\n",
       "\n",
       "[418 rows x 2 columns]"
      ]
     },
     "execution_count": 21,
     "metadata": {},
     "output_type": "execute_result"
    }
   ],
   "source": [
    "df"
   ]
  },
  {
   "cell_type": "code",
   "execution_count": 22,
   "id": "bf8ed2fe",
   "metadata": {},
   "outputs": [],
   "source": [
    "#Calculate the mean"
   ]
  },
  {
   "cell_type": "code",
   "execution_count": 23,
   "id": "715bf67f",
   "metadata": {},
   "outputs": [
    {
     "name": "stderr",
     "output_type": "stream",
     "text": [
      "C:\\Users\\ahers\\anaconda3\\lib\\site-packages\\numpy\\core\\fromnumeric.py:3438: FutureWarning: In a future version, DataFrame.mean(axis=None) will return a scalar mean over the entire DataFrame. To retain the old behavior, use 'frame.mean(axis=0)' or just 'frame.mean()'\n",
      "  return mean(axis=axis, dtype=dtype, out=out, **kwargs)\n"
     ]
    }
   ],
   "source": [
    "mean=np.mean(df)"
   ]
  },
  {
   "cell_type": "code",
   "execution_count": 24,
   "id": "63768790",
   "metadata": {},
   "outputs": [],
   "source": [
    "#Calculate the median"
   ]
  },
  {
   "cell_type": "code",
   "execution_count": 25,
   "id": "db61c00c",
   "metadata": {},
   "outputs": [],
   "source": [
    "median=np.median(df)"
   ]
  },
  {
   "cell_type": "code",
   "execution_count": 26,
   "id": "8314cf32",
   "metadata": {},
   "outputs": [],
   "source": [
    "#Calculate the mode"
   ]
  },
  {
   "cell_type": "code",
   "execution_count": 27,
   "id": "8bb7bfb2",
   "metadata": {},
   "outputs": [],
   "source": [
    "mode=df.mode().iloc[0]"
   ]
  },
  {
   "cell_type": "code",
   "execution_count": 28,
   "id": "ca261133",
   "metadata": {},
   "outputs": [],
   "source": [
    "#Calculate the Standard deviation"
   ]
  },
  {
   "cell_type": "code",
   "execution_count": 29,
   "id": "ccb5ffef",
   "metadata": {},
   "outputs": [],
   "source": [
    "std_dev = np.std(df)"
   ]
  },
  {
   "cell_type": "code",
   "execution_count": 30,
   "id": "43da0afa",
   "metadata": {},
   "outputs": [],
   "source": [
    "#Print the summary statistics"
   ]
  },
  {
   "cell_type": "code",
   "execution_count": 31,
   "id": "71d09ed2",
   "metadata": {},
   "outputs": [
    {
     "name": "stdout",
     "output_type": "stream",
     "text": [
      "Mean: 1100.50\n"
     ]
    }
   ],
   "source": [
    "print(\"Mean: {:.2f}\".format(mean.values[0]))"
   ]
  },
  {
   "cell_type": "code",
   "execution_count": 32,
   "id": "a6cb8ad7",
   "metadata": {},
   "outputs": [
    {
     "name": "stdout",
     "output_type": "stream",
     "text": [
      "Median: 446.50\n"
     ]
    }
   ],
   "source": [
    "print(\"Median: {:.2f}\".format(median))"
   ]
  },
  {
   "cell_type": "code",
   "execution_count": 33,
   "id": "b8b176e2",
   "metadata": {},
   "outputs": [
    {
     "name": "stdout",
     "output_type": "stream",
     "text": [
      "Mode: 892.00\n"
     ]
    }
   ],
   "source": [
    "print(\"Mode: {:.2f}\".format(mode.values[0]))"
   ]
  },
  {
   "cell_type": "code",
   "execution_count": 34,
   "id": "97f0e47f",
   "metadata": {},
   "outputs": [
    {
     "name": "stdout",
     "output_type": "stream",
     "text": [
      "Standard Deviation: 120.67\n"
     ]
    }
   ],
   "source": [
    "print(\"Standard Deviation: {:.2f}\".format(std_dev.values[0]))"
   ]
  },
  {
   "cell_type": "code",
   "execution_count": null,
   "id": "3fda9cb0",
   "metadata": {},
   "outputs": [],
   "source": []
  },
  {
   "cell_type": "markdown",
   "id": "45990b7c",
   "metadata": {},
   "source": [
    "Thank You!!"
   ]
  }
 ],
 "metadata": {
  "kernelspec": {
   "display_name": "Python 3 (ipykernel)",
   "language": "python",
   "name": "python3"
  },
  "language_info": {
   "codemirror_mode": {
    "name": "ipython",
    "version": 3
   },
   "file_extension": ".py",
   "mimetype": "text/x-python",
   "name": "python",
   "nbconvert_exporter": "python",
   "pygments_lexer": "ipython3",
   "version": "3.9.13"
  }
 },
 "nbformat": 4,
 "nbformat_minor": 5
}
